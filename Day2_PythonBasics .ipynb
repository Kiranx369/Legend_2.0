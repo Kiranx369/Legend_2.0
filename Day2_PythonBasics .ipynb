{
  "nbformat": 4,
  "nbformat_minor": 0,
  "metadata": {
    "colab": {
      "provenance": []
    },
    "kernelspec": {
      "name": "python3",
      "display_name": "Python 3"
    },
    "language_info": {
      "name": "python"
    }
  },
  "cells": [
    {
      "cell_type": "code",
      "execution_count": null,
      "metadata": {
        "colab": {
          "base_uri": "https://localhost:8080/"
        },
        "id": "mrqgXRVUyhqH",
        "outputId": "37370672-620c-4473-f505-7358a06938b1"
      },
      "outputs": [
        {
          "output_type": "stream",
          "name": "stdout",
          "text": [
            "10 3.5 Legend True <class 'int'> <class 'float'> <class 'str'> <class 'bool'>\n",
            "Welcome, kiran\n",
            "Enter a number: 10\n",
            "Even\n"
          ]
        }
      ],
      "source": [
        "# 1. Variables & Data Types\n",
        "a = 10; b = 3.5; c = \"Legend\"; d = True\n",
        "print(a, b, c, d, type(a), type(b), type(c), type(d))\n",
        "\n",
        "# 2. Input / Output\n",
        "name = input(\"Enter your name: \")\n",
        "print(\"Welcome,\", name)\n",
        "\n",
        "# 3. If-Else Example\n",
        "num = int(input(\"Enter a number: \"))\n",
        "if num % 2 == 0:\n",
        "    print(\"Even\")\n",
        "else:\n",
        "    print(\"Odd\")\n",
        "\n",
        "# 4. Mini Project – Grade Calculator\n",
        "marks = int(input(\"Enter your marks: \"))\n",
        "if marks >= 90:\n",
        "    print(\"Grade A+\")\n",
        "elif marks >= 75:\n",
        "    print(\"Grade A\")\n",
        "elif marks >= 60:\n",
        "    print(\"Grade B\")\n",
        "else:\n",
        "    print(\"Grade C or below\")\n",
        "\n",
        "\n"
      ]
    },
    {
      "cell_type": "markdown",
      "source": [
        " Quick Notes\n",
        "- Comments: # This is a comment\n",
        "- Input returns string → use int() or float() to convert\n",
        "- Indentation: 4 spaces inside if/else\n",
        "- print() → outputs data to console\n",
        "\n"
      ],
      "metadata": {
        "id": "9BfcPSvt0Pla"
      }
    },
    {
      "cell_type": "markdown",
      "source": [
        "Mini Quiz\n",
        "\n",
        "Q1. input() returns string by default  \n",
        "Q2. 4 spaces used for indentation  \n",
        "Q3. Program to check divisible by 5:"
      ],
      "metadata": {
        "id": "3I1w1oc31PSb"
      }
    },
    {
      "cell_type": "code",
      "source": [
        "x = int(input(\"Enter number: \"))\n",
        "if x % 5 == 0:\n",
        "    print(\"Divisible by 5\")\n",
        "else:\n",
        "    print(\"Not divisible by 5\")"
      ],
      "metadata": {
        "id": "CGDRcgL51Hjr"
      },
      "execution_count": null,
      "outputs": []
    },
    {
      "cell_type": "markdown",
      "source": [
        "Reflection: Learned syntax, logic, if-else."
      ],
      "metadata": {
        "id": "ZyYq7l3C2q3a"
      }
    }
  ]
}