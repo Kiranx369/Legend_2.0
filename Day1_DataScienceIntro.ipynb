{
  "nbformat": 4,
  "nbformat_minor": 0,
  "metadata": {
    "colab": {
      "provenance": []
    },
    "kernelspec": {
      "name": "python3",
      "display_name": "Python 3"
    },
    "language_info": {
      "name": "python"
    }
  },
  "cells": [
    {
      "cell_type": "code",
      "execution_count": null,
      "metadata": {
        "id": "hABo-8P--8pz"
      },
      "outputs": [],
      "source": []
    },
    {
      "cell_type": "markdown",
      "source": [
        "# Day 1 — Introduction to Data Science\n"
      ],
      "metadata": {
        "id": "kuaV67ZT_88c"
      }
    },
    {
      "cell_type": "markdown",
      "source": [
        "## Core Concepts\n",
        "- **Data Science** = Collect → Clean → Analyse → Decide  \n",
        "- **Machine Learning** = Learn from data  \n",
        "- **Artificial Intelligence** = Machines that simulate human thinking  \n",
        "- **Key Tools:** Python | Pandas | NumPy | Matplotlib"
      ],
      "metadata": {
        "id": "9IOio6QHAAsA"
      }
    },
    {
      "cell_type": "markdown",
      "source": [
        "## Reflection\n",
        "Environment setup done ✅  \n",
        "Understood the difference between DS, ML & AI.  \n",
        "Next step → Python Basics.\n"
      ],
      "metadata": {
        "id": "e8Q2oWWdAM2I"
      }
    },
    {
      "cell_type": "code",
      "source": [
        "print(\"welcome to legend 2.0\")"
      ],
      "metadata": {
        "colab": {
          "base_uri": "https://localhost:8080/"
        },
        "id": "PURFIMFCAYKG",
        "outputId": "dbdebcbd-d83f-4506-f1fb-1ccc2e531f43"
      },
      "execution_count": 1,
      "outputs": [
        {
          "output_type": "stream",
          "name": "stdout",
          "text": [
            "welcome to legend 2.0\n"
          ]
        }
      ]
    }
  ]
}