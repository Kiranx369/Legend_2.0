{
  "nbformat": 4,
  "nbformat_minor": 0,
  "metadata": {
    "colab": {
      "provenance": []
    },
    "kernelspec": {
      "name": "python3",
      "display_name": "Python 3"
    },
    "language_info": {
      "name": "python"
    }
  },
  "cells": [
    {
      "cell_type": "code",
      "source": [
        "# For Loop #\n",
        "\n",
        "for i in range(1, 6):\n",
        "    print(\"Hello,\", i)\n",
        "\n",
        "# While Loop #\n",
        "\n",
        "num = 1\n",
        "while num <= 5:\n",
        "    print(\"Count:\", num)\n",
        "    num += 1\n",
        "\n",
        "# Break / Continue#\n",
        "\n",
        "for i in range(1, 10):\n",
        "    if i == 5:\n",
        "        continue        # skips 5\n",
        "    if i == 8:\n",
        "        break           # stops loop\n",
        "    print(i)"
      ],
      "metadata": {
        "colab": {
          "base_uri": "https://localhost:8080/"
        },
        "id": "l5QrSIo-xrYP",
        "outputId": "a212ed71-c45f-4a82-8c3e-46f713d194eb"
      },
      "execution_count": 6,
      "outputs": [
        {
          "output_type": "stream",
          "name": "stdout",
          "text": [
            "Hello, 1\n",
            "Hello, 2\n",
            "Hello, 3\n",
            "Hello, 4\n",
            "Hello, 5\n",
            "Count: 1\n",
            "Count: 2\n",
            "Count: 3\n",
            "Count: 4\n",
            "Count: 5\n",
            "1\n",
            "2\n",
            "3\n",
            "4\n",
            "6\n",
            "7\n"
          ]
        }
      ]
    },
    {
      "cell_type": "code",
      "source": [
        "#Function Basics#\n",
        "\n",
        "def greet(name):\n",
        "    print(\"Welcome,\", name)\n",
        "\n",
        "greet(\"Kiran\")\n",
        "\n",
        "#Function with Return#\n",
        "\n",
        "def add(a, b):\n",
        "    return a + b\n",
        "\n",
        "result = add(10, 5)\n",
        "print(\"Sum:\", result)\n"
      ],
      "metadata": {
        "colab": {
          "base_uri": "https://localhost:8080/"
        },
        "id": "45rKD6UNw7Px",
        "outputId": "a6c684bb-c385-407b-8513-adf79d684b47"
      },
      "execution_count": 7,
      "outputs": [
        {
          "output_type": "stream",
          "name": "stdout",
          "text": [
            "Welcome, Kiran\n",
            "Sum: 15\n"
          ]
        }
      ]
    },
    {
      "cell_type": "code",
      "source": [
        "#Mini Project → Number Analyzer#\n",
        "\n",
        "def analyze_number(n):\n",
        "    print(\"Number:\", n)\n",
        "    if n % 2 == 0:\n",
        "        print(\"Even\")\n",
        "    else:\n",
        "        print(\"Odd\")\n",
        "    print(\"Square:\", n**2)\n",
        "    print(\"Cube:\", n**3)\n",
        "\n",
        "num = int(input(\"Enter a number: \"))\n",
        "analyze_number(num)"
      ],
      "metadata": {
        "colab": {
          "base_uri": "https://localhost:8080/"
        },
        "id": "HZ8bGHhVzMPH",
        "outputId": "8db322a1-d0e4-4058-c5af-24a5eb2385f9"
      },
      "execution_count": 8,
      "outputs": [
        {
          "output_type": "stream",
          "name": "stdout",
          "text": [
            "Enter a number: 4\n",
            "Number: 4\n",
            "Even\n",
            "Square: 16\n",
            "Cube: 64\n"
          ]
        }
      ]
    }
  ]
}